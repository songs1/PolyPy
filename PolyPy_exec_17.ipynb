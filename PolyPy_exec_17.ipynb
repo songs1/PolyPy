{
 "cells": [
  {
   "cell_type": "code",
   "execution_count": 2,
   "id": "02711b01",
   "metadata": {},
   "outputs": [
    {
     "name": "stdout",
     "output_type": "stream",
     "text": [
      "Database Imported:\tCROW PolymerDatabase (Glass Transition Temperature)\n",
      "Database Imported:\tFreesolv (Hydration Free Energy)\n",
      "Database Imported:\tBicerano_1996 (Glass Transition Temperature) with MD simulations by Azfal_2021\n",
      "Database Imported:\tIBM Log-Permeability Database ('CH4', 'CO2', 'H2', 'He', 'N2', 'O2')\n",
      "Database Imported:\tLipophilicity Database (Log D7.4)\n",
      "\n",
      "Method Implemented:\tTao_MLP  \t(keras)\n",
      "Method Implemented:\tmy_MLP  \t(keras)\n",
      "Method Implemented:\tTao_CNN_1D\t(keras)\n",
      "Method Implemented:\tTao_RF  \t(sklearn)\n",
      "Method Implemented:\tmy_GPR  \t(sklearn)\n",
      "Method Implemented:\tTao_GPR  \t(sklearn)\n",
      "\n",
      "Function Defined:\tmulti_test\n",
      "Function Defined:\tbenchmark\n",
      "\n",
      "PolyPy3 Loaded\n"
     ]
    }
   ],
   "source": [
    "%run PolyPy3_load_data.ipynb\n",
    "print()\n",
    "%run PolyPy3_benchmarks.ipynb\n",
    "tf.compat.v1.logging.set_verbosity(tf.compat.v1.logging.ERROR)\n",
    "print('\\nPolyPy3 Loaded')"
   ]
  },
  {
   "cell_type": "code",
   "execution_count": 3,
   "id": "0ed57185",
   "metadata": {},
   "outputs": [],
   "source": [
    "with open('FIVE_TEST_IDX_LIPOPHILICITY.txt') as f:\n",
    "    FIVE_TEST_INDICES = eval(f.read())"
   ]
  },
  {
   "cell_type": "code",
   "execution_count": 7,
   "id": "7f5b7c9e",
   "metadata": {},
   "outputs": [
    {
     "name": "stdout",
     "output_type": "stream",
     "text": [
      "Lipophilicity; Z-Score; mu = 1.83102 [LogD7.4]; sigma = 1.81967 [LogD7.4]\n",
      "Start Trials: 83 83 83 84 84 84 84 84 84 84 85 84 83 62 85 83 85 84 84 84 \n",
      "Best Test R^2: 0.8492949713630491\n",
      "Lipophilicity; Z-Score; mu = 1.83102 [LogD7.4]; sigma = 1.81967 [LogD7.4]\n",
      "Start Trials: 84 85 84 84 73 84 84 84 85 84 84 84 83 85 85 84 84 74 84 85 \n",
      "Best Test R^2: 0.8522850489709791\n",
      "Lipophilicity; Z-Score; mu = 1.83102 [LogD7.4]; sigma = 1.81967 [LogD7.4]\n",
      "Start Trials: 81 81 81 81 81 81 81 82 82 82 82 81 80 82 80 79 81 80 81 79 \n",
      "Best Test R^2: 0.8235239344959973\n",
      "Lipophilicity; Z-Score; mu = 1.83102 [LogD7.4]; sigma = 1.81967 [LogD7.4]\n",
      "Start Trials: 82 82 83 82 81 83 82 82 82 83 82 83 82 82 81 81 83 83 83 83 \n",
      "Best Test R^2: 0.8326683313828903\n",
      "Lipophilicity; Z-Score; mu = 1.83102 [LogD7.4]; sigma = 1.81967 [LogD7.4]\n",
      "Start Trials: 82 80 80 81 80 81 82 81 81 80 81 81 81 82 80 82 82 82 80 82 \n",
      "Best Test R^2: 0.8222967333988975\n"
     ]
    }
   ],
   "source": [
    "for i in range(5):\n",
    "    print(f'\\nSplit {i}')\n",
    "    model = Tao_MLP\n",
    "    smiles = lipo_smiles\n",
    "    X = lipo_fp_counts\n",
    "    y = lipo_y_zScore\n",
    "    test_idx = FIVE_TEST_INDICES[i]\n",
    "    mu, std = np.mean(lipo_y), np.std(lipo_y)\n",
    "    prefix = f'Lipophilicity; Z-Score; mu = {round(mu,5)} [LogD7.4]; sigma = {round(std,5)} [LogD7.4]'\n",
    "    print(prefix)\n",
    "\n",
    "    _ = benchmark(model, smiles, X, y, test_idx, prefix, nTrials=20,\n",
    "                  saveFile = f'results_benchmarks/benchmark--lipophilicity--MLP--split{i}.txt')"
   ]
  },
  {
   "cell_type": "code",
   "execution_count": 8,
   "id": "7bffd579",
   "metadata": {},
   "outputs": [
    {
     "name": "stdout",
     "output_type": "stream",
     "text": [
      "\n",
      "Split 0\n",
      "Lipophilicity; Z-Score; mu = 1.83102 [LogD7.4]; sigma = 1.81967 [LogD7.4]\n",
      "Start Trials: 75 76 76 76 76 76 76 76 76 76 76 76 77 75 76 76 76 76 76 76 \n",
      "Best Test R^2: 0.7673743541297929\n",
      "\n",
      "Split 1\n",
      "Lipophilicity; Z-Score; mu = 1.83102 [LogD7.4]; sigma = 1.81967 [LogD7.4]\n",
      "Start Trials: 75 76 75 74 74 75 75 75 75 75 75 75 76 76 75 76 76 75 75 75 \n",
      "Best Test R^2: 0.7585757662242033\n",
      "\n",
      "Split 2\n",
      "Lipophilicity; Z-Score; mu = 1.83102 [LogD7.4]; sigma = 1.81967 [LogD7.4]\n",
      "Start Trials: 81 82 81 81 82 81 81 81 81 81 82 82 81 82 81 81 81 80 81 81 \n",
      "Best Test R^2: 0.8220673344998175\n",
      "\n",
      "Split 3\n",
      "Lipophilicity; Z-Score; mu = 1.83102 [LogD7.4]; sigma = 1.81967 [LogD7.4]\n",
      "Start Trials: 76 75 75 76 75 76 75 76 75 76 75 76 76 75 76 76 75 75 76 76 \n",
      "Best Test R^2: 0.7615306394619169\n",
      "\n",
      "Split 4\n",
      "Lipophilicity; Z-Score; mu = 1.83102 [LogD7.4]; sigma = 1.81967 [LogD7.4]\n",
      "Start Trials: 76 76 76 76 76 76 77 76 76 76 76 76 75 76 76 76 76 76 76 76 \n",
      "Best Test R^2: 0.7693039397353904\n"
     ]
    }
   ],
   "source": [
    "for i in range(5):\n",
    "    print(f'\\nSplit {i}')\n",
    "    model = Tao_RF\n",
    "    smiles = lipo_smiles\n",
    "    X = lipo_fp_counts\n",
    "    y = lipo_y_zScore\n",
    "    test_idx = FIVE_TEST_INDICES[i]\n",
    "    mu, std = np.mean(lipo_y), np.std(lipo_y)\n",
    "    prefix = f'Lipophilicity; Z-Score; mu = {round(mu,5)} [LogD7.4]; sigma = {round(std,5)} [LogD7.4]'\n",
    "    print(prefix)\n",
    "\n",
    "    _ = benchmark(model, smiles, X, y, test_idx, prefix, nTrials=20,\n",
    "                  saveFile = f'results_benchmarks/benchmark--lipophilicity--MLP--split{i}.txt')"
   ]
  },
  {
   "cell_type": "code",
   "execution_count": null,
   "id": "f3953ab4",
   "metadata": {},
   "outputs": [],
   "source": []
  }
 ],
 "metadata": {
  "kernelspec": {
   "display_name": "Python 3 (ipykernel)",
   "language": "python",
   "name": "python3"
  },
  "language_info": {
   "codemirror_mode": {
    "name": "ipython",
    "version": 3
   },
   "file_extension": ".py",
   "mimetype": "text/x-python",
   "name": "python",
   "nbconvert_exporter": "python",
   "pygments_lexer": "ipython3",
   "version": "3.7.3"
  }
 },
 "nbformat": 4,
 "nbformat_minor": 5
}
