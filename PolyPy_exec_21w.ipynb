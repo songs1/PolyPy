{
 "cells": [
  {
   "cell_type": "code",
   "execution_count": 1,
   "id": "84d9140c",
   "metadata": {},
   "outputs": [
    {
     "name": "stdout",
     "output_type": "stream",
     "text": [
      "Database Imported:\tCROW PolymerDatabase (Glass Transition Temperature)\n",
      "Database Imported:\tFreesolv (Hydration Free Energy)\n",
      "Database Imported:\tBicerano_1996 (Glass Transition Temperature) with MD simulations by Azfal_2021\n",
      "Database Imported:\tIBM Log-Permeability Database ('CH4', 'CO2', 'H2', 'He', 'N2', 'O2')\n",
      "Database Imported:\tLipophilicity Database (Log D7.4)\n",
      "Database Imported:\tBaysian Log-Permeability Database\n",
      "Database Imported:\tHOPV\n",
      "Database Imported:\tclintox (classification)\n",
      "Database Imported:\tDILI (classification)\n",
      "Database Imported:\tPTC (classification)\n",
      "\n",
      "Method Implemented:\tTao_MLP  \t(keras)\n",
      "Method Implemented:\tTao_MLP_classifier\t(keras)\n",
      "Method Implemented:\tmy_MLP  \t(keras)\n",
      "Method Implemented:\tTao_CNN_1D\t(keras)\n",
      "Method Implemented:\tTao_RF  \t(sklearn)\n",
      "Method Implemented:\tTao_RF_classifier\t(sklearn)\n",
      "Method Implemented:\tmy_GPR  \t(sklearn)\n",
      "Method Implemented:\tTao_GPR  \t(sklearn)\n",
      "\n",
      "Function Defined:\tmulti_test\n",
      "Function Defined:\tbenchmark\n",
      "Function Defined:\tclassifier_benchmark\n",
      "\n",
      "PolyPy3 Loaded\n"
     ]
    }
   ],
   "source": [
    "%run PolyPy3_load_data.ipynb\n",
    "print()\n",
    "%run PolyPy3_benchmarks.ipynb\n",
    "tf.compat.v1.logging.set_verbosity(tf.compat.v1.logging.ERROR)\n",
    "print('\\nPolyPy3 Loaded')"
   ]
  },
  {
   "cell_type": "code",
   "execution_count": 2,
   "id": "6e7f0ad1",
   "metadata": {},
   "outputs": [],
   "source": [
    "with open('rebuttal_data/splits_DILI.txt') as f:\n",
    "    DILI_idx = eval(f.read())\n",
    "\n",
    "X = DILI_fp_counts\n",
    "y = DILI_y\n",
    "smiles = DILI_smiles\n",
    "mu, std = np.mean(DILI_y), np.std(DILI_y)"
   ]
  },
  {
   "cell_type": "code",
   "execution_count": 3,
   "id": "7911232f",
   "metadata": {},
   "outputs": [
    {
     "name": "stdout",
     "output_type": "stream",
     "text": [
      "\n",
      "Split 0\n",
      "DILI boolean; mu = 0.41127; sigma = 0.49206\n",
      "Start Trials: (74, 66); (38, 53); (66, 51); (74, 74); (64, 68); (63, 66); (75, 67); (56, 64); (72, 75); (37, 52); (67, 65); (68, 56); (69, 75); (69, 72); (76, 68); (69, 71); (69, 55); (66, 50); (74, 69); (72, 61); \n",
      "Best Test\tAccuracy: 0.6947368421052632,\n",
      "\t\tArea-Under-Curve: 0.7544642857142856\n",
      "\n",
      "Split 1\n",
      "DILI boolean; mu = 0.41127; sigma = 0.49206\n",
      "Start Trials: (66, 54); (63, 50); (71, 71); (39, 52); (66, 57); (83, 79); (76, 77); (62, 70); (68, 56); (78, 74); (71, 69); (55, 64); (37, 50); (75, 67); (65, 56); (71, 61); (68, 71); (66, 54); (58, 65); (76, 71); \n",
      "Best Test\tAccuracy: 0.8315789473684211,\n",
      "\t\tArea-Under-Curve: 0.7907425265188043\n",
      "\n",
      "Split 2\n",
      "DILI boolean; mu = 0.41127; sigma = 0.49206\n",
      "Start Trials: (62, 62); (69, 65); (71, 73); (72, 68); (75, 76); (60, 65); (63, 57); (73, 75); (60, 51); (41, 50); (75, 73); (74, 71); (59, 64); (76, 73); (68, 63); (65, 61); (62, 67); (63, 55); (77, 79); (66, 70); \n",
      "Best Test\tAccuracy: 0.7684210526315789,\n",
      "\t\tArea-Under-Curve: 0.7918956043956044\n",
      "\n",
      "Split 3\n",
      "DILI boolean; mu = 0.41127; sigma = 0.49206\n",
      "Start Trials: (71, 68); (67, 70); (66, 61); (64, 65); (72, 73); (61, 54); (73, 74); (67, 61); (64, 68); (69, 65); (71, 66); (67, 66); (67, 72); (58, 64); (68, 73); (64, 58); (69, 71); (59, 50); (56, 60); (68, 70); \n",
      "Best Test\tAccuracy: 0.7263157894736842,\n",
      "\t\tArea-Under-Curve: 0.7406135531135531\n",
      "\n",
      "Split 4\n",
      "DILI boolean; mu = 0.41127; sigma = 0.49206\n",
      "Start Trials: (55, 49); (74, 74); (77, 78); (46, 54); (66, 66); (72, 70); (66, 61); (65, 68); (60, 64); (73, 72); (63, 64); (68, 68); (69, 65); (58, 50); (73, 75); (63, 57); (66, 61); (68, 65); (60, 53); (68, 64); \n",
      "Best Test\tAccuracy: 0.7684210526315789,\n",
      "\t\tArea-Under-Curve: 0.7761363636363636\n"
     ]
    }
   ],
   "source": [
    "for i in range(5):\n",
    "    print(f'\\nSplit {i}')\n",
    "    model = Tao_MLP_classifier\n",
    "    test_idx = DILI_idx[i]\n",
    "    prefix = f'DILI boolean; mu = {round(mu,5)}; sigma = {round(std,5)}'\n",
    "    print(prefix)\n",
    "\n",
    "    _ = classifier_benchmark(model, smiles, X, y, test_idx, prefix, nTrials=20,\n",
    "                             saveFile = f'results_rebuttal/benchmark--DILI--MLPw--split{i}.txt')"
   ]
  },
  {
   "cell_type": "code",
   "execution_count": 4,
   "id": "19af36e1",
   "metadata": {},
   "outputs": [
    {
     "name": "stdout",
     "output_type": "stream",
     "text": [
      "\n",
      "Split 0\n",
      "DILI boolean; mu = 0.41127; sigma = 0.49206\n",
      "Start Trials: (79, 76); (82, 80); (81, 80); (81, 79); (82, 80); (82, 80); (81, 80); (78, 76); (80, 77); (80, 78); (79, 77); (84, 81); (80, 79); (84, 82); (81, 80); (80, 77); (83, 81); (80, 76); (85, 84); (79, 76); \n",
      "Best Test\tAccuracy: 0.8526315789473684,\n",
      "\t\tArea-Under-Curve: 0.8350694444444444\n",
      "\n",
      "Split 1\n",
      "DILI boolean; mu = 0.41127; sigma = 0.49206\n",
      "Start Trials: (72, 70); (71, 68); (76, 73); (77, 75); (74, 71); (78, 76); (77, 73); (77, 76); (74, 72); (75, 71); (75, 73); (71, 67); (73, 69); (80, 77); (73, 68); (76, 72); (76, 75); (75, 73); (78, 76); (78, 76); \n",
      "Best Test\tAccuracy: 0.8,\n",
      "\t\tArea-Under-Curve: 0.7661523625843779\n",
      "\n",
      "Split 2\n",
      "DILI boolean; mu = 0.41127; sigma = 0.49206\n",
      "Start Trials: (76, 76); (77, 75); (74, 73); (72, 70); (78, 77); (75, 74); (73, 71); (74, 73); (75, 73); (76, 75); (76, 75); (73, 72); (73, 71); (74, 73); (74, 73); (75, 73); (73, 70); (75, 73); (75, 73); (69, 67); \n",
      "Best Test\tAccuracy: 0.7789473684210526,\n",
      "\t\tArea-Under-Curve: 0.7657967032967034\n",
      "\n",
      "Split 3\n",
      "DILI boolean; mu = 0.41127; sigma = 0.49206\n",
      "Start Trials: (76, 74); (78, 77); (75, 73); (75, 74); (75, 73); (75, 73); (74, 73); (76, 74); (76, 74); (75, 73); (73, 71); (77, 74); (74, 72); (74, 71); (74, 73); (79, 78); (77, 75); (71, 68); (75, 72); (74, 71); \n",
      "Best Test\tAccuracy: 0.7894736842105263,\n",
      "\t\tArea-Under-Curve: 0.7786172161172162\n",
      "\n",
      "Split 4\n",
      "DILI boolean; mu = 0.41127; sigma = 0.49206\n",
      "Start Trials: (75, 73); (76, 75); (77, 75); (76, 75); (77, 75); (76, 74); (76, 74); (80, 78); (74, 72); (75, 73); (75, 73); (76, 74); (73, 71); (75, 73); (75, 73); (76, 74); (77, 75); (74, 72); (76, 74); (76, 74); \n",
      "Best Test\tAccuracy: 0.8,\n",
      "\t\tArea-Under-Curve: 0.7795454545454544\n"
     ]
    }
   ],
   "source": [
    "for i in range(5):\n",
    "    print(f'\\nSplit {i}')\n",
    "    model = Tao_RF_classifier\n",
    "    test_idx = DILI_idx[i]\n",
    "    prefix = f'DILI boolean; mu = {round(mu,5)}; sigma = {round(std,5)}'\n",
    "    print(prefix)\n",
    "\n",
    "    _ = classifier_benchmark(model, smiles, X, y, test_idx, prefix, nTrials=20,\n",
    "                             saveFile = f'results_rebuttal/benchmark--DILI--RFw--split{i}.txt')"
   ]
  },
  {
   "cell_type": "code",
   "execution_count": null,
   "id": "d3979f47",
   "metadata": {},
   "outputs": [],
   "source": []
  }
 ],
 "metadata": {
  "kernelspec": {
   "display_name": "Python 3 (ipykernel)",
   "language": "python",
   "name": "python3"
  },
  "language_info": {
   "codemirror_mode": {
    "name": "ipython",
    "version": 3
   },
   "file_extension": ".py",
   "mimetype": "text/x-python",
   "name": "python",
   "nbconvert_exporter": "python",
   "pygments_lexer": "ipython3",
   "version": "3.7.3"
  }
 },
 "nbformat": 4,
 "nbformat_minor": 5
}
