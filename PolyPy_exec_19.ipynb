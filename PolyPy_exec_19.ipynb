{
 "cells": [
  {
   "cell_type": "code",
   "execution_count": 1,
   "id": "84d9140c",
   "metadata": {},
   "outputs": [
    {
     "name": "stdout",
     "output_type": "stream",
     "text": [
      "Database Imported:\tCROW PolymerDatabase (Glass Transition Temperature)\n",
      "Database Imported:\tFreesolv (Hydration Free Energy)\n",
      "Database Imported:\tBicerano_1996 (Glass Transition Temperature) with MD simulations by Azfal_2021\n",
      "Database Imported:\tIBM Log-Permeability Database ('CH4', 'CO2', 'H2', 'He', 'N2', 'O2')\n",
      "Database Imported:\tLipophilicity Database (Log D7.4)\n",
      "Database Imported:\tBaysian Log-Permeability Database\n",
      "Database Imported:\tHOPV\n",
      "Database Imported:\tclintox (classification)\n",
      "Database Imported:\tDILI (classification)\n",
      "Database Imported:\tPTC (classification)\n",
      "\n",
      "Method Implemented:\tTao_MLP  \t(keras)\n",
      "Method Implemented:\tTao_MLP_classifier\t(keras)\n",
      "Method Implemented:\tmy_MLP  \t(keras)\n",
      "Method Implemented:\tTao_CNN_1D\t(keras)\n",
      "Method Implemented:\tTao_RF  \t(sklearn)\n",
      "Method Implemented:\tTao_RF_classifier\t(sklearn)\n",
      "Method Implemented:\tmy_GPR  \t(sklearn)\n",
      "Method Implemented:\tTao_GPR  \t(sklearn)\n",
      "\n",
      "Function Defined:\tmulti_test\n",
      "Function Defined:\tbenchmark\n",
      "\n",
      "PolyPy3 Loaded\n"
     ]
    }
   ],
   "source": [
    "%run PolyPy3_load_data.ipynb\n",
    "print()\n",
    "%run PolyPy3_benchmarks.ipynb\n",
    "tf.compat.v1.logging.set_verbosity(tf.compat.v1.logging.ERROR)\n",
    "print('\\nPolyPy3 Loaded')"
   ]
  },
  {
   "cell_type": "code",
   "execution_count": 2,
   "id": "6e7f0ad1",
   "metadata": {},
   "outputs": [],
   "source": [
    "with open('rebuttal_data/splits_HOPV.txt') as f:\n",
    "    hopv_idx = eval(f.read())\n",
    "\n",
    "X = hopv_fp_counts\n",
    "y = hopv_y_zScore\n",
    "smiles = hopv_smiles\n",
    "mu, std = np.mean(hopv_y), np.std(hopv_y)"
   ]
  },
  {
   "cell_type": "code",
   "execution_count": 3,
   "id": "7911232f",
   "metadata": {},
   "outputs": [
    {
     "name": "stdout",
     "output_type": "stream",
     "text": [
      "\n",
      "Split 0\n",
      "HOPV Z-Score; mu = -0.25034; sigma = 0.0144\n",
      "Start Trials: 60 43 59 53 41 54 53 60 64 58 24 56 53 58 42 45 55 58 48 38 59 42 42 53 17 49 55 47 44 47 54 58 57 40 44 59 54 44 47 58 52 42 43 43 58 40 53 49 58 54 \n",
      "Best Test\tR^2: 0.6407451383952288,\n",
      "\t\tMAE: 0.37408983589668443\n",
      "\n",
      "Split 1\n",
      "HOPV Z-Score; mu = -0.25034; sigma = 0.0144\n",
      "Start Trials: 73 66 61 63 61 59 58 64 61 65 72 49 61 68 71 74 42 68 69 65 61 66 65 73 74 66 73 73 68 64 68 62 63 74 77 75 68 65 70 76 65 54 67 65 75 68 75 64 65 62 \n",
      "Best Test\tR^2: 0.7692688782603223,\n",
      "\t\tMAE: 0.3246992089769679\n",
      "\n",
      "Split 2\n",
      "HOPV Z-Score; mu = -0.25034; sigma = 0.0144\n",
      "Start Trials: 60 72 64 68 67 71 64 64 68 71 68 70 69 70 60 55 64 66 62 71 65 60 63 73 58 63 64 66 67 70 67 64 72 67 55 72 62 71 68 62 68 56 58 68 62 64 58 73 67 59 \n",
      "Best Test\tR^2: 0.7305458171775323,\n",
      "\t\tMAE: 0.3032755765421245\n",
      "\n",
      "Split 3\n",
      "HOPV Z-Score; mu = -0.25034; sigma = 0.0144\n",
      "Start Trials: 58 60 35 24 59 35 37 53 58 9 47 34 34 7 45 40 35 15 32 21 22 50 44 53 51 56 38 35 56 26 54 33 41 52 15 57 30 55 44 41 47 36 50 63 60 52 33 66 27 45 \n",
      "Best Test\tR^2: 0.6574950247321435,\n",
      "\t\tMAE: 0.30594454540206084\n",
      "\n",
      "Split 4\n",
      "HOPV Z-Score; mu = -0.25034; sigma = 0.0144\n",
      "Start Trials: 40 39 50 52 41 53 15 4 51 37 50 28 45 45 30 17 32 41 49 26 57 35 26 58 47 45 56 45 53 54 38 52 7 45 48 1 49 29 62 35 45 47 50 34 29 50 47 66 28 44 \n",
      "Best Test\tR^2: 0.6564828314834341,\n",
      "\t\tMAE: 0.33077538568809256\n"
     ]
    }
   ],
   "source": [
    "for i in range(5):\n",
    "    print(f'\\nSplit {i}')\n",
    "    model = Tao_MLP\n",
    "    test_idx = hopv_idx[i]\n",
    "    prefix = f'HOPV Z-Score; mu = {round(mu,5)}; sigma = {round(std,5)}'\n",
    "    print(prefix)\n",
    "\n",
    "    _ = benchmark(model, smiles, X, y, test_idx, prefix, nTrials=50,\n",
    "                  saveFile = f'results_rebuttal/benchmark--HOPV--MLP--split{i}.txt')"
   ]
  },
  {
   "cell_type": "code",
   "execution_count": 4,
   "id": "df96ee40",
   "metadata": {},
   "outputs": [
    {
     "name": "stdout",
     "output_type": "stream",
     "text": [
      "\n",
      "Split 0\n",
      "HOPV Z-Score; mu = -0.25034; sigma = 0.0144\n",
      "Start Trials: 65 66 67 67 66 62 66 65 66 65 66 65 64 65 65 69 65 66 65 64 63 66 66 66 65 66 64 67 65 66 65 67 66 66 68 65 66 66 66 64 64 65 63 66 63 62 65 67 64 66 \n",
      "Best Test\tR^2: 0.6919216708176573,\n",
      "\t\tMAE: 0.3762002274833127\n",
      "\n",
      "Split 1\n",
      "HOPV Z-Score; mu = -0.25034; sigma = 0.0144\n",
      "Start Trials: 62 65 65 63 64 65 63 62 63 63 66 61 64 64 62 63 64 63 63 64 63 63 64 64 65 63 63 63 64 64 65 64 64 65 63 65 64 65 65 65 63 63 63 62 63 63 65 63 65 65 \n",
      "Best Test\tR^2: 0.6593399196280079,\n",
      "\t\tMAE: 0.3450460883422553\n",
      "\n",
      "Split 2\n",
      "HOPV Z-Score; mu = -0.25034; sigma = 0.0144\n",
      "Start Trials: 74 77 76 77 76 76 76 75 76 74 74 74 76 75 76 76 76 76 75 75 76 78 76 77 75 76 75 74 77 74 75 74 75 74 74 74 76 76 74 75 76 76 73 75 77 77 75 75 77 77 \n",
      "Best Test\tR^2: 0.778357145757506,\n",
      "\t\tMAE: 0.3077181699348114\n",
      "\n",
      "Split 3\n",
      "HOPV Z-Score; mu = -0.25034; sigma = 0.0144\n",
      "Start Trials: 65 66 66 63 65 65 65 67 63 64 67 65 64 64 64 64 66 65 65 64 65 64 65 66 64 66 63 65 65 64 64 64 64 65 65 65 63 63 66 66 66 63 64 63 65 65 65 64 64 66 \n",
      "Best Test\tR^2: 0.669338870771953,\n",
      "\t\tMAE: 0.3021432137224507\n",
      "\n",
      "Split 4\n",
      "HOPV Z-Score; mu = -0.25034; sigma = 0.0144\n",
      "Start Trials: 54 50 51 53 53 53 56 55 54 55 52 52 52 54 55 53 53 51 54 52 53 53 53 57 54 53 54 52 53 54 56 52 54 54 54 55 54 54 54 53 54 52 54 53 56 53 54 52 51 55 \n",
      "Best Test\tR^2: 0.5711201122914493,\n",
      "\t\tMAE: 0.36127943202163565\n"
     ]
    }
   ],
   "source": [
    "for i in range(5):\n",
    "    print(f'\\nSplit {i}')\n",
    "    model = Tao_RF\n",
    "    test_idx = hopv_idx[i]\n",
    "    prefix = f'HOPV Z-Score; mu = {round(mu,5)}; sigma = {round(std,5)}'\n",
    "    print(prefix)\n",
    "\n",
    "    _ = benchmark(model, smiles, X, y, test_idx, prefix, nTrials=50,\n",
    "                  saveFile = f'results_rebuttal/benchmark--HOPV--RF--split{i}.txt')"
   ]
  },
  {
   "cell_type": "code",
   "execution_count": null,
   "id": "19af36e1",
   "metadata": {},
   "outputs": [],
   "source": []
  }
 ],
 "metadata": {
  "kernelspec": {
   "display_name": "Python 3 (ipykernel)",
   "language": "python",
   "name": "python3"
  },
  "language_info": {
   "codemirror_mode": {
    "name": "ipython",
    "version": 3
   },
   "file_extension": ".py",
   "mimetype": "text/x-python",
   "name": "python",
   "nbconvert_exporter": "python",
   "pygments_lexer": "ipython3",
   "version": "3.7.3"
  }
 },
 "nbformat": 4,
 "nbformat_minor": 5
}
