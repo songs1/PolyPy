{
 "cells": [
  {
   "cell_type": "code",
   "execution_count": 5,
   "id": "84d9140c",
   "metadata": {},
   "outputs": [
    {
     "name": "stdout",
     "output_type": "stream",
     "text": [
      "Database Imported:\tCROW PolymerDatabase (Glass Transition Temperature)\n",
      "Database Imported:\tFreesolv (Hydration Free Energy)\n",
      "Database Imported:\tBicerano_1996 (Glass Transition Temperature) with MD simulations by Azfal_2021\n",
      "Database Imported:\tIBM Log-Permeability Database ('CH4', 'CO2', 'H2', 'He', 'N2', 'O2')\n",
      "Database Imported:\tLipophilicity Database (Log D7.4)\n",
      "Database Imported:\tBaysian Log-Permeability Database\n",
      "Database Imported:\tHOPV\n",
      "Database Imported:\tclintox (classification)\n",
      "Database Imported:\tDILI (classification)\n",
      "Database Imported:\tPTC (classification)\n",
      "\n",
      "Method Implemented:\tTao_MLP  \t(keras)\n",
      "Method Implemented:\tTao_MLP_classifier\t(keras)\n",
      "Method Implemented:\tmy_MLP  \t(keras)\n",
      "Method Implemented:\tTao_CNN_1D\t(keras)\n",
      "Method Implemented:\tTao_RF  \t(sklearn)\n",
      "Method Implemented:\tTao_RF_classifier\t(sklearn)\n",
      "Method Implemented:\tmy_GPR  \t(sklearn)\n",
      "Method Implemented:\tTao_GPR  \t(sklearn)\n",
      "\n",
      "Function Defined:\tmulti_test\n",
      "Function Defined:\tbenchmark\n",
      "Function Defined:\tclassifier_benchmark\n",
      "\n",
      "PolyPy3 Loaded\n"
     ]
    }
   ],
   "source": [
    "%run PolyPy3_load_data.ipynb\n",
    "print()\n",
    "%run PolyPy3_benchmarks.ipynb\n",
    "tf.compat.v1.logging.set_verbosity(tf.compat.v1.logging.ERROR)\n",
    "print('\\nPolyPy3 Loaded')"
   ]
  },
  {
   "cell_type": "code",
   "execution_count": 6,
   "id": "6e7f0ad1",
   "metadata": {},
   "outputs": [],
   "source": [
    "with open('rebuttal_data/splits_clintox.txt') as f:\n",
    "    clintox_idx = eval(f.read())\n",
    "\n",
    "X = clintox_fp_counts\n",
    "y = clintox_y\n",
    "smiles = clintox_smiles\n",
    "mu, std = np.mean(clintox_y), np.std(clintox_y)"
   ]
  },
  {
   "cell_type": "code",
   "execution_count": 3,
   "id": "7911232f",
   "metadata": {},
   "outputs": [
    {
     "name": "stdout",
     "output_type": "stream",
     "text": [
      "\n",
      "Split 0\n",
      "clintox boolean; mu = 0.9364; sigma = 0.24404\n",
      "Start Trials: (80, 77); (85, 80); (85, 68); (62, 80); (88, 82); (88, 78); (95, 62); (78, 80); (94, 73); (94, 69); (96, 66); (74, 78); (64, 77); (93, 76); (91, 67); (80, 78); (23, 60); (92, 76); (63, 77); (79, 81); (63, 73); (83, 79); (51, 75); (85, 80); (81, 82); (88, 82); (93, 73); (95, 69); (82, 83); (84, 84); (87, 81); (81, 78); (93, 76); (95, 70); (96, 58); (92, 76); (83, 79); (89, 79); (74, 79); (93, 68); (88, 78); (72, 77); (41, 69); (79, 81); (80, 78); (91, 79); (96, 54); (76, 79); (93, 69); (81, 78); \n",
      "Best Test\tAccuracy: 0.8440677966101695,\n",
      "\t\tArea-Under-Curve: 0.8389281507656066\n",
      "\n",
      "Split 1\n",
      "clintox boolean; mu = 0.9364; sigma = 0.24404\n",
      "Start Trials: (94, 70); (81, 70); (83, 70); (91, 71); (94, 64); (92, 72); (80, 78); (94, 55); (83, 70); (72, 82); (95, 65); (81, 72); (86, 75); (77, 76); (94, 56); (76, 73); (80, 75); (95, 65); (39, 68); (73, 80); (93, 67); (90, 74); (94, 58); (91, 75); (89, 74); (94, 67); (95, 65); (35, 66); (86, 72); (92, 72); (77, 70); (90, 74); (94, 55); (82, 73); (52, 71); (83, 71); (87, 73); (93, 72); (94, 56); (95, 56); (77, 79); (76, 79); (93, 61); (84, 71); (80, 72); (78, 77); (80, 78); (94, 58); (79, 83); (88, 73); \n",
      "Best Test\tAccuracy: 0.7932203389830509,\n",
      "\t\tArea-Under-Curve: 0.8317652329749103\n",
      "\n",
      "Split 2\n",
      "clintox boolean; mu = 0.9364; sigma = 0.24404\n",
      "Start Trials: (87, 73); (88, 70); (87, 70); (83, 83); (89, 68); (84, 65); (70, 79); (93, 55); (82, 83); (88, 70); (92, 59); (83, 67); (83, 78); (82, 72); (92, 54); (84, 73); (92, 49); (82, 77); (85, 76); (81, 74); (82, 80); (82, 70); (92, 67); (85, 74); (90, 63); (87, 72); (93, 52); (43, 64); (92, 54); (77, 72); (92, 59); (91, 61); (90, 69); (87, 62); (68, 75); (81, 69); (92, 52); (23, 56); (87, 70); (92, 59); (86, 69); (77, 77); (77, 82); (68, 75); (73, 78); (73, 75); (73, 80); (79, 81); (85, 69); (32, 59); \n",
      "Best Test\tAccuracy: 0.8338983050847457,\n",
      "\t\tArea-Under-Curve: 0.8336341756919374\n",
      "\n",
      "Split 3\n",
      "clintox boolean; mu = 0.9364; sigma = 0.24404\n",
      "Start Trials: (88, 60); (91, 61); (79, 72); (92, 62); (63, 74); (88, 60); (38, 67); (94, 53); (90, 57); (95, 57); (93, 55); (89, 60); (93, 63); (94, 59); (91, 61); (83, 71); (45, 68); (75, 70); (92, 55); (90, 61); (91, 58); (93, 56); (85, 75); (91, 58); (86, 66); (78, 65); (68, 77); (93, 59); (77, 71); (85, 72); (95, 53); (85, 65); (93, 49); (95, 50); (95, 56); (95, 56); (79, 65); (94, 49); (91, 61); (94, 59); (77, 71); (94, 63); (91, 58); (80, 72); (86, 62); (46, 68); (70, 74); (91, 58); (95, 60); (79, 68); \n",
      "Best Test\tAccuracy: 0.6847457627118644,\n",
      "\t\tArea-Under-Curve: 0.7666497203863752\n",
      "\n",
      "Split 4\n",
      "clintox boolean; mu = 0.9364; sigma = 0.24404\n",
      "Start Trials: (93, 65); (76, 72); (94, 65); (67, 65); (68, 71); (92, 64); (84, 69); (41, 63); (94, 58); (82, 71); (92, 64); (94, 60); (85, 68); (79, 67); (94, 63); (85, 68); (67, 68); (81, 68); (86, 66); (76, 70); (91, 63); (80, 65); (76, 70); (59, 68); (86, 66); (93, 62); (72, 70); (89, 62); (64, 68); (79, 69); (92, 66); (24, 54); (94, 62); (74, 72); (94, 63); (30, 55); (94, 58); (78, 69); (92, 64); (86, 66); (73, 68); (84, 69); (84, 72); (85, 68); (93, 67); (61, 69); (82, 66); (85, 68); (92, 64); (35, 63); \n",
      "Best Test\tAccuracy: 0.7559322033898305,\n",
      "\t\tArea-Under-Curve: 0.7225400457665905\n"
     ]
    }
   ],
   "source": [
    "for i in range(5):\n",
    "    print(f'\\nSplit {i}')\n",
    "    model = Tao_MLP_classifier\n",
    "    test_idx = clintox_idx[i]\n",
    "    prefix = f'clintox boolean; mu = {round(mu,5)}; sigma = {round(std,5)}'\n",
    "    print(prefix)\n",
    "\n",
    "    _ = classifier_benchmark(model, smiles, X, y, test_idx, prefix, nTrials=50,\n",
    "                             saveFile = f'results_rebuttal/benchmark--clintox--MLP--split{i}.txt')"
   ]
  },
  {
   "cell_type": "code",
   "execution_count": 7,
   "id": "19af36e1",
   "metadata": {},
   "outputs": [
    {
     "name": "stdout",
     "output_type": "stream",
     "text": [
      "\n",
      "Split 0\n",
      "clintox boolean; mu = 0.9364; sigma = 0.24404\n",
      "Start Trials: (96, 70); (96, 62); (97, 74); (96, 70); (95, 70); (96, 70); (96, 66); (96, 70); (96, 70); (95, 62); (95, 62); (95, 62); (96, 70); (96, 70); (96, 66); (97, 70); (96, 70); (95, 70); (96, 66); (95, 66); (96, 66); (96, 66); (96, 62); (96, 70); (96, 62); (96, 66); (96, 66); (96, 66); (96, 62); (96, 66); (97, 70); (95, 70); (96, 66); (96, 70); (96, 62); (96, 66); (96, 70); (96, 70); (95, 65); (96, 70); (95, 66); (96, 70); (96, 66); (96, 74); (96, 70); (95, 62); (96, 70); (95, 65); (96, 70); (96, 66); \n",
      "Best Test\tAccuracy: 0.9661016949152542,\n",
      "\t\tArea-Under-Curve: 0.7429328621908127\n",
      "\n",
      "Split 1\n",
      "clintox boolean; mu = 0.9364; sigma = 0.24404\n",
      "Start Trials: (94, 64); (94, 62); (94, 61); (94, 65); (94, 64); (94, 61); (94, 58); (94, 61); (94, 61); (94, 58); (94, 62); (93, 61); (94, 58); (94, 64); (93, 61); (94, 62); (94, 61); (94, 62); (94, 65); (94, 61); (93, 61); (93, 58); (94, 62); (93, 61); (94, 61); (94, 58); (94, 61); (94, 61); (95, 62); (94, 62); (94, 61); (93, 64); (94, 61); (94, 61); (94, 65); (94, 61); (94, 58); (93, 58); (93, 61); (94, 61); (94, 61); (94, 61); (94, 58); (94, 61); (94, 58); (94, 61); (94, 62); (94, 58); (93, 61); (94, 61); \n",
      "Best Test\tAccuracy: 0.9423728813559322,\n",
      "\t\tArea-Under-Curve: 0.645497311827957\n",
      "\n",
      "Split 2\n",
      "clintox boolean; mu = 0.9364; sigma = 0.24404\n",
      "Start Trials: (93, 60); (93, 62); (92, 59); (94, 60); (93, 57); (93, 60); (94, 63); (93, 62); (93, 60); (93, 60); (93, 60); (93, 62); (93, 62); (93, 60); (93, 60); (93, 62); (93, 60); (93, 62); (93, 60); (94, 63); (93, 63); (93, 60); (93, 62); (93, 60); (93, 57); (92, 59); (94, 60); (93, 60); (93, 57); (93, 60); (93, 60); (93, 62); (94, 63); (93, 60); (93, 63); (93, 60); (94, 63); (93, 60); (93, 60); (93, 60); (93, 60); (94, 63); (93, 60); (93, 60); (93, 63); (94, 63); (92, 57); (94, 63); (93, 60); (93, 60); \n",
      "Best Test\tAccuracy: 0.9389830508474576,\n",
      "\t\tArea-Under-Curve: 0.6298636181307662\n",
      "\n",
      "Split 3\n",
      "clintox boolean; mu = 0.9364; sigma = 0.24404\n",
      "Start Trials: (96, 60); (96, 60); (94, 49); (95, 57); (95, 57); (95, 50); (95, 60); (95, 57); (95, 57); (95, 57); (94, 53); (95, 57); (95, 53); (95, 57); (95, 60); (95, 57); (96, 57); (95, 53); (96, 60); (95, 57); (95, 56); (95, 53); (95, 60); (95, 57); (95, 57); (95, 50); (95, 50); (95, 53); (95, 50); (95, 57); (94, 49); (96, 60); (95, 57); (95, 53); (95, 53); (95, 57); (95, 53); (95, 50); (95, 53); (96, 60); (95, 53); (95, 57); (95, 56); (95, 53); (95, 53); (95, 50); (95, 57); (95, 53); (95, 53); (95, 60); \n",
      "Best Test\tAccuracy: 0.9559322033898305,\n",
      "\t\tArea-Under-Curve: 0.6035841382816471\n",
      "\n",
      "Split 4\n",
      "clintox boolean; mu = 0.9364; sigma = 0.24404\n",
      "Start Trials: (94, 63); (94, 60); (94, 60); (95, 65); (94, 63); (94, 60); (94, 60); (94, 63); (95, 65); (94, 60); (94, 63); (95, 65); (95, 65); (94, 60); (94, 63); (94, 60); (94, 63); (94, 60); (94, 60); (94, 60); (94, 63); (94, 60); (94, 60); (95, 63); (94, 57); (95, 65); (94, 60); (95, 65); (94, 57); (94, 63); (94, 57); (94, 60); (94, 65); (94, 58); (94, 60); (95, 65); (94, 57); (93, 57); (95, 65); (94, 58); (94, 60); (94, 60); (94, 60); (95, 65); (94, 60); (94, 60); (94, 58); (94, 60); (94, 60); (94, 60); \n",
      "Best Test\tAccuracy: 0.9491525423728814,\n",
      "\t\tArea-Under-Curve: 0.6542715484363082\n"
     ]
    }
   ],
   "source": [
    "for i in range(5):\n",
    "    print(f'\\nSplit {i}')\n",
    "    model = Tao_RF_classifier\n",
    "    test_idx = clintox_idx[i]\n",
    "    prefix = f'clintox boolean; mu = {round(mu,5)}; sigma = {round(std,5)}'\n",
    "    print(prefix)\n",
    "\n",
    "    _ = classifier_benchmark(model, smiles, X, y, test_idx, prefix, nTrials=50,\n",
    "                             saveFile = f'results_rebuttal/benchmark--clintox--RF--split{i}.txt')"
   ]
  },
  {
   "cell_type": "code",
   "execution_count": null,
   "id": "d3979f47",
   "metadata": {},
   "outputs": [],
   "source": [
    "np.count_nonzero([0,1,1,0,0,1,0,0,1])"
   ]
  },
  {
   "cell_type": "code",
   "execution_count": 8,
   "id": "25474b41",
   "metadata": {},
   "outputs": [],
   "source": [
    "with open('rebuttal_data/splits_PTC.txt') as f:\n",
    "    PTC_idx = eval(f.read())\n",
    "\n",
    "X = PTC_fp_counts\n",
    "y = PTC_y\n",
    "smiles = PTC_smiles\n",
    "mu, std = np.mean(PTC_y), np.std(PTC_y)"
   ]
  },
  {
   "cell_type": "code",
   "execution_count": 9,
   "id": "f80bd77d",
   "metadata": {},
   "outputs": [
    {
     "name": "stdout",
     "output_type": "stream",
     "text": [
      "\n",
      "Split 0\n",
      "PTC boolean; mu = 0.40805; sigma = 0.49147\n",
      "Start Trials: (52, 52); (65, 69); (57, 56); (55, 54); (62, 59); (41, 48); (55, 49); (57, 49); (48, 44); (39, 42); (57, 59); (43, 51); (57, 49); (55, 56); (41, 44); (58, 59); (54, 55); (59, 52); (55, 53); (48, 52); \n",
      "Best Test\tAccuracy: 0.6521739130434783,\n",
      "\t\tArea-Under-Curve: 0.6905172413793104\n",
      "\n",
      "Split 1\n",
      "PTC boolean; mu = 0.40805; sigma = 0.49147\n",
      "Start Trials: (61, 61); (38, 47); (58, 47); (42, 45); (65, 58); (61, 52); (42, 52); (43, 50); (61, 49); (65, 54); (59, 57); (59, 61); (36, 41); (38, 50); (65, 55); (42, 53); (45, 53); (64, 54); (62, 50); (54, 55); \n",
      "Best Test\tAccuracy: 0.6086956521739131,\n",
      "\t\tArea-Under-Curve: 0.6100178890876565\n",
      "\n",
      "Split 2\n",
      "PTC boolean; mu = 0.40805; sigma = 0.49147\n",
      "Start Trials: (35, 52); (49, 52); (65, 56); (64, 50); (41, 53); (72, 59); (62, 58); (71, 58); (38, 54); (38, 52); (51, 52); (35, 49); (70, 52); (68, 50); (70, 62); (67, 65); (71, 59); (54, 55); (68, 50); (33, 50); \n",
      "Best Test\tAccuracy: 0.6666666666666666,\n",
      "\t\tArea-Under-Curve: 0.6465183752417795\n",
      "\n",
      "Split 3\n",
      "PTC boolean; mu = 0.40805; sigma = 0.49147\n",
      "Start Trials: (55, 52); (59, 51); (61, 50); (62, 52); (51, 54); (43, 54); (62, 58); (57, 54); (52, 51); (45, 52); (49, 54); (59, 51); (61, 51); (41, 49); (72, 69); (49, 58); (65, 62); (65, 65); (61, 55); (43, 46); \n",
      "Best Test\tAccuracy: 0.7246376811594203,\n",
      "\t\tArea-Under-Curve: 0.6878306878306879\n",
      "\n",
      "Split 4\n",
      "PTC boolean; mu = 0.40805; sigma = 0.49147\n",
      "Start Trials: (36, 45); (38, 53); (59, 53); (33, 50); (59, 52); (41, 54); (59, 50); (43, 55); (45, 51); (33, 49); (43, 57); (43, 51); (52, 52); (57, 43); (57, 47); (35, 51); (59, 51); (52, 53); (65, 50); (64, 49); \n",
      "Best Test\tAccuracy: 0.43478260869565216,\n",
      "\t\tArea-Under-Curve: 0.5652173913043478\n"
     ]
    }
   ],
   "source": [
    "for i in range(5):\n",
    "    print(f'\\nSplit {i}')\n",
    "    model = Tao_MLP_classifier\n",
    "    test_idx = PTC_idx[i]\n",
    "    prefix = f'PTC boolean; mu = {round(mu,5)}; sigma = {round(std,5)}'\n",
    "    print(prefix)\n",
    "\n",
    "    _ = classifier_benchmark(model, smiles, X, y, test_idx, prefix, nTrials=20,\n",
    "                             saveFile = f'results_rebuttal/benchmark--PTC--MLP--split{i}.txt')"
   ]
  },
  {
   "cell_type": "code",
   "execution_count": 10,
   "id": "91379209",
   "metadata": {},
   "outputs": [
    {
     "name": "stdout",
     "output_type": "stream",
     "text": [
      "\n",
      "Split 0\n",
      "PTC boolean; mu = 0.40805; sigma = 0.49147\n",
      "Start Trials: (62, 59); (67, 64); (58, 55); (64, 62); (67, 66); (61, 59); (61, 57); (65, 64); (68, 65); (68, 65); (61, 58); (67, 64); (65, 63); (65, 62); (67, 65); (67, 64); (64, 62); (65, 61); (65, 63); (67, 65); \n",
      "Best Test\tAccuracy: 0.6666666666666666,\n",
      "\t\tArea-Under-Curve: 0.655603448275862\n",
      "\n",
      "Split 1\n",
      "PTC boolean; mu = 0.40805; sigma = 0.49147\n",
      "Start Trials: (64, 63); (62, 60); (64, 63); (64, 63); (61, 61); (62, 62); (57, 58); (65, 64); (62, 61); (62, 62); (62, 59); (62, 59); (61, 61); (64, 62); (68, 68); (61, 59); (61, 59); (65, 64); (61, 61); (64, 63); \n",
      "Best Test\tAccuracy: 0.6811594202898551,\n",
      "\t\tArea-Under-Curve: 0.6757602862254024\n",
      "\n",
      "Split 2\n",
      "PTC boolean; mu = 0.40805; sigma = 0.49147\n",
      "Start Trials: (72, 66); (72, 64); (72, 68); (68, 65); (71, 68); (72, 66); (71, 63); (67, 61); (71, 64); (70, 62); (74, 70); (71, 64); (70, 64); (70, 64); (68, 62); (71, 67); (68, 62); (72, 68); (71, 69); (68, 62); \n",
      "Best Test\tAccuracy: 0.7391304347826086,\n",
      "\t\tArea-Under-Curve: 0.6997098646034816\n",
      "\n",
      "Split 3\n",
      "PTC boolean; mu = 0.40805; sigma = 0.49147\n",
      "Start Trials: (64, 59); (64, 61); (65, 63); (64, 58); (61, 57); (65, 62); (64, 62); (67, 63); (65, 62); (65, 62); (67, 63); (64, 60); (62, 60); (62, 59); (70, 67); (70, 66); (62, 58); (68, 66); (62, 60); (64, 60); \n",
      "Best Test\tAccuracy: 0.6956521739130435,\n",
      "\t\tArea-Under-Curve: 0.6706349206349207\n",
      "\n",
      "Split 4\n",
      "PTC boolean; mu = 0.40805; sigma = 0.49147\n",
      "Start Trials: (59, 55); (58, 58); (58, 58); (54, 51); (55, 57); (58, 53); (55, 53); (57, 53); (54, 50); (52, 50); (52, 52); (59, 58); (57, 54); (59, 58); (55, 52); (55, 52); (55, 52); (58, 55); (54, 51); (57, 54); \n",
      "Best Test\tAccuracy: 0.5942028985507246,\n",
      "\t\tArea-Under-Curve: 0.5760869565217391\n"
     ]
    }
   ],
   "source": [
    "for i in range(5):\n",
    "    print(f'\\nSplit {i}')\n",
    "    model = Tao_RF_classifier\n",
    "    test_idx = PTC_idx[i]\n",
    "    prefix = f'PTC boolean; mu = {round(mu,5)}; sigma = {round(std,5)}'\n",
    "    print(prefix)\n",
    "\n",
    "    _ = classifier_benchmark(model, smiles, X, y, test_idx, prefix, nTrials=20,\n",
    "                             saveFile = f'results_rebuttal/benchmark--PTC--RF--split{i}.txt')"
   ]
  },
  {
   "cell_type": "code",
   "execution_count": null,
   "id": "064a507f",
   "metadata": {},
   "outputs": [],
   "source": []
  }
 ],
 "metadata": {
  "kernelspec": {
   "display_name": "Python 3 (ipykernel)",
   "language": "python",
   "name": "python3"
  },
  "language_info": {
   "codemirror_mode": {
    "name": "ipython",
    "version": 3
   },
   "file_extension": ".py",
   "mimetype": "text/x-python",
   "name": "python",
   "nbconvert_exporter": "python",
   "pygments_lexer": "ipython3",
   "version": "3.7.3"
  }
 },
 "nbformat": 4,
 "nbformat_minor": 5
}
