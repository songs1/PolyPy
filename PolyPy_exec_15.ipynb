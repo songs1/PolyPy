{
 "cells": [
  {
   "cell_type": "code",
   "execution_count": 1,
   "id": "8ac93794",
   "metadata": {},
   "outputs": [
    {
     "name": "stdout",
     "output_type": "stream",
     "text": [
      "Database Imported:\tCROW PolymerDatabase (Glass Transition Temperature)\n",
      "Database Imported:\tFreesolv (Hydration Free Energy)\n",
      "\n",
      "Method Implemented:\tTao_MLP  \t(keras)\n",
      "Method Implemented:\tmy_MLP  \t(keras)\n",
      "Method Implemented:\tTao_CNN_1D\t(keras)\n",
      "Method Implemented:\tTao_RF  \t(sklearn)\n",
      "\n",
      "Function Defined:\tmulti_test\n",
      "\n",
      "PolyPy3 Loaded\n"
     ]
    }
   ],
   "source": [
    "%run PolyPy3_load_data.ipynb\n",
    "print()\n",
    "%run PolyPy3_benchmarks.ipynb\n",
    "tf.compat.v1.logging.set_verbosity(tf.compat.v1.logging.ERROR)\n",
    "print('\\nPolyPy3 Loaded')"
   ]
  },
  {
   "cell_type": "code",
   "execution_count": 2,
   "id": "bebaee72",
   "metadata": {},
   "outputs": [],
   "source": [
    "INPUTS = {'fpCounts':freesolv_fp_counts, 'fpBits':freesolv_fp_bits, \n",
    "          'fpCounts2048':freesolv_fp_counts_2048, 'fpBits2048':freesolv_fp_bits_2048}\n",
    "\n",
    "LABELS = {'DGhy_exp':freesolv_DGhy_exp, 'DGhy_expZ':freesolv_DGhy_exp_zScore}\n",
    "\n",
    "with open('results_821/TEN_FREESOLV_TEST_INDICES_v1.txt') as f:\n",
    "    TEN_FREESOLV_TEST_INDICES = eval(f.read())"
   ]
  },
  {
   "cell_type": "code",
   "execution_count": 3,
   "id": "0089a1e5",
   "metadata": {},
   "outputs": [
    {
     "name": "stdout",
     "output_type": "stream",
     "text": [
      "X.shape: (643, 3181)\n",
      "\u001b[1m[Test #0]:\u001b[0m [82,84,83,83,84,83,83,84,84,84,84,83,84,85,84,83,83,84,82,85,] best R^2: 0.853\n",
      "\u001b[1m[Test #1]:\u001b[0m [81,81,80,81,83,80,83,83,82,82,82,81,81,82,82,83,81,82,81,81,] best R^2: 0.832\n",
      "\u001b[1m[Test #2]:\u001b[0m [87,86,87,87,87,84,88,86,87,87,84,86,86,86,86,87,87,87,87,87,] best R^2: 0.876\n",
      "\u001b[1m[Test #3]:\u001b[0m [87,84,84,86,84,86,85,86,84,85,86,85,86,86,85,81,85,84,85,86,] best R^2: 0.869\n",
      "\u001b[1m[Test #4]:\u001b[0m [80,78,81,80,80,83,79,82,83,79,81,81,81,79,80,80,82,82,82,80,] best R^2: 0.833\n",
      "\u001b[1m[Test #5]:\u001b[0m [87,86,89,88,86,86,87,88,88,89,87,88,87,90,87,88,88,89,86,89,] best R^2: 0.898\n",
      "\u001b[1m[Test #6]:\u001b[0m [90,89,90,92,90,90,89,90,90,90,91,90,90,88,89,88,89,90,90,91,] best R^2: 0.918\n",
      "\u001b[1m[Test #7]:\u001b[0m [90,90,91,91,90,90,90,90,88,90,88,90,89,90,89,90,91,90,90,88,] best R^2: 0.911\n",
      "\u001b[1m[Test #8]:\u001b[0m [85,86,87,87,87,87,85,85,86,87,87,87,88,86,87,87,86,86,86,85,] best R^2: 0.882\n",
      "\u001b[1m[Test #9]:\u001b[0m [81,81,83,81,80,81,82,82,84,83,81,84,83,81,84,82,82,82,81,84,] best R^2: 0.843\n",
      "done\n",
      "\n",
      "Average of Bests (+/- St.Dev.):\n",
      "R^2:\t0.8714124158349273   +/-   0.029506924589702915\n",
      "MAE:\t0.8924334364966489   +/-   0.08161938673544572\n",
      "RMSE:\t1.3523871004160735   +/-   0.18732682551237173\n",
      "\n",
      "Global Average (+/- St.Dev.):\n",
      "R^2:\t0.8531325018373284   +/-   0.032585348745088255\n",
      "MAE:\t0.9629977995221444   +/-   0.09727288714127552\n",
      "RMSE:\t1.4458013922535793   +/-   0.191355510574745\n"
     ]
    }
   ],
   "source": [
    "model_name = 'Tao_MLP'\n",
    "X_name = 'fpCounts'\n",
    "y_name = 'DGhy_exp'\n",
    "\n",
    "_ = multi_test(eval(model_name), X=INPUTS[X_name], y=LABELS[y_name],\n",
    "               test_indices=TEN_FREESOLV_TEST_INDICES, nTrials=20,\n",
    "               saveFile=f'results_821/{model_name}--freesolv--{X_name}--{y_name}.txt')"
   ]
  },
  {
   "cell_type": "code",
   "execution_count": 4,
   "id": "2144a25b",
   "metadata": {},
   "outputs": [
    {
     "name": "stdout",
     "output_type": "stream",
     "text": [
      "X.shape: (643, 3181)\n",
      "\u001b[1m[Test #0]:\u001b[0m [75,77,75,76,76,74,76,76,75,76,75,73,73,75,75,77,75,74,75,76,] best R^2: 0.768\n",
      "\u001b[1m[Test #1]:\u001b[0m [81,81,79,81,81,80,80,81,81,80,80,81,81,80,80,81,80,81,79,81,] best R^2: 0.815\n",
      "\u001b[1m[Test #2]:\u001b[0m [72,72,73,72,72,72,73,72,73,73,72,73,72,71,73,72,71,73,70,73,] best R^2: 0.734\n",
      "\u001b[1m[Test #3]:\u001b[0m [73,72,73,73,73,72,73,71,72,72,72,73,73,74,72,72,72,73,73,72,] best R^2: 0.739\n",
      "\u001b[1m[Test #4]:\u001b[0m [71,70,71,73,72,73,71,73,71,71,72,70,71,73,73,74,72,73,72,73,] best R^2: 0.737\n",
      "\u001b[1m[Test #5]:\u001b[0m [78,78,78,78,78,77,78,77,77,78,77,78,78,79,78,78,77,78,77,79,] best R^2: 0.795\n",
      "\u001b[1m[Test #6]:\u001b[0m [84,83,84,83,83,83,84,83,83,83,83,83,84,83,83,84,84,84,84,83,] best R^2: 0.844\n",
      "\u001b[1m[Test #7]:\u001b[0m [69,69,68,69,70,69,70,68,69,70,68,67,67,70,68,70,69,71,69,69,] best R^2: 0.705\n",
      "\u001b[1m[Test #8]:\u001b[0m [75,75,75,75,75,76,75,75,74,75,75,75,75,76,75,74,76,76,76,75,] best R^2: 0.763\n",
      "\u001b[1m[Test #9]:\u001b[0m [70,69,70,69,70,69,69,70,70,70,70,70,70,70,70,69,70,71,70,70,] best R^2: 0.714\n",
      "done\n",
      "\n",
      "Average of Bests (+/- St.Dev.):\n",
      "R^2:\t0.7614063026295821   +/-   0.0426644854898991\n",
      "MAE:\t1.2194469385461388   +/-   0.11525540630993433\n",
      "RMSE:\t1.8538697495483798   +/-   0.27921564280966904\n",
      "\n",
      "Global Average (+/- St.Dev.):\n",
      "R^2:\t0.7477960650637917   +/-   0.04498398072117087\n",
      "MAE:\t1.2473163665513507   +/-   0.11466580533314989\n",
      "RMSE:\t1.9056565179452787   +/-   0.28441232004087863\n"
     ]
    }
   ],
   "source": [
    "model_name = 'Tao_RF'\n",
    "X_name = 'fpCounts'\n",
    "y_name = 'DGhy_exp'\n",
    "\n",
    "_ = multi_test(eval(model_name), X=INPUTS[X_name], y=LABELS[y_name],\n",
    "               test_indices=TEN_FREESOLV_TEST_INDICES, nTrials=20,\n",
    "               saveFile=f'results_821/{model_name}--freesolv--{X_name}--{y_name}.txt')"
   ]
  },
  {
   "cell_type": "code",
   "execution_count": 5,
   "id": "f8544589",
   "metadata": {},
   "outputs": [
    {
     "name": "stdout",
     "output_type": "stream",
     "text": [
      "X.shape: (643, 3181)\n",
      "\u001b[1m[Test #0]:\u001b[0m [84,84,83,84,86,85,86,86,85,83,85,85,86,85,86,84,86,84,86,87,] best R^2: 0.869\n",
      "\u001b[1m[Test #1]:\u001b[0m [83,82,85,82,81,84,84,85,85,82,84,86,83,85,85,82,84,80,85,85,] best R^2: 0.855\n",
      "\u001b[1m[Test #2]:\u001b[0m [89,90,88,89,89,89,90,90,89,90,89,88,87,89,90,90,89,89,88,89,] best R^2: 0.903\n",
      "\u001b[1m[Test #3]:\u001b[0m [87,87,87,85,87,87,85,87,87,85,87,87,87,87,88,86,87,88,86,88,] best R^2: 0.884\n",
      "\u001b[1m[Test #4]:\u001b[0m [84,83,84,84,84,82,84,84,83,82,84,84,84,84,85,84,83,85,82,82,] best R^2: 0.852\n",
      "\u001b[1m[Test #5]:\u001b[0m [89,88,89,90,89,90,89,90,87,89,89,88,91,89,89,88,89,89,88,90,] best R^2: 0.907\n",
      "\u001b[1m[Test #6]:\u001b[0m [92,91,91,91,92,92,91,92,91,92,92,91,92,92,91,92,91,91,92,91,] best R^2: 0.924\n",
      "\u001b[1m[Test #7]:\u001b[0m [93,93,93,93,92,93,92,92,94,92,92,92,93,92,93,93,92,93,93,93,] best R^2: 0.935\n",
      "\u001b[1m[Test #8]:\u001b[0m [89,89,89,89,90,89,90,90,90,89,89,90,90,88,89,89,89,90,90,90,] best R^2: 0.904\n",
      "\u001b[1m[Test #9]:\u001b[0m [86,85,85,85,84,84,84,85,86,85,85,85,86,85,85,84,83,85,82,86,] best R^2: 0.862\n",
      "done\n",
      "\n",
      "Average of Bests (+/- St.Dev.):\n",
      "R^2:\t0.8894857759021428   +/-   0.02782618837680822\n",
      "MAE:\t0.8267486453659366   +/-   0.08102797804801853\n",
      "RMSE:\t1.2490707566298889   +/-   0.1701610931024285\n",
      "\n",
      "Global Average (+/- St.Dev.):\n",
      "R^2:\t0.8750243178193241   +/-   0.032022266047355114\n",
      "MAE:\t0.8835065596239642   +/-   0.08934835844860624\n",
      "RMSE:\t1.327697061039516   +/-   0.18118755133502565\n"
     ]
    }
   ],
   "source": [
    "model_name = 'Tao_CNN_1D'\n",
    "X_name = 'fpCounts'\n",
    "y_name = 'DGhy_exp'\n",
    "\n",
    "_ = multi_test(eval(model_name), X=INPUTS[X_name], y=LABELS[y_name],\n",
    "               test_indices=TEN_FREESOLV_TEST_INDICES, nTrials=20,\n",
    "               saveFile=f'results_821/{model_name}--freesolv--{X_name}--{y_name}.txt')"
   ]
  },
  {
   "cell_type": "code",
   "execution_count": 6,
   "id": "cf7d6974",
   "metadata": {},
   "outputs": [
    {
     "name": "stdout",
     "output_type": "stream",
     "text": [
      "X.shape: (643, 3181)\n",
      "\u001b[1m[Test #0]:\u001b[0m [83,82,82,82,81,82,82,82,82,80,83,82,81,83,81,82,83,83,82,80,] best R^2: 0.829\n",
      "\u001b[1m[Test #1]:\u001b[0m [82,82,83,82,83,83,83,82,82,83,83,83,84,83,83,81,81,83,81,83,] best R^2: 0.835\n",
      "\u001b[1m[Test #2]:\u001b[0m [84,83,85,84,84,85,84,85,84,84,86,85,84,83,85,85,84,83,85,85,] best R^2: 0.856\n",
      "\u001b[1m[Test #3]:\u001b[0m [83,84,84,83,85,84,84,84,84,85,85,86,84,85,84,83,84,84,85,85,] best R^2: 0.864\n",
      "\u001b[1m[Test #4]:\u001b[0m [83,84,83,83,83,82,84,83,81,83,82,84,82,83,82,83,83,83,82,83,] best R^2: 0.842\n",
      "\u001b[1m[Test #5]:\u001b[0m [87,89,88,88,88,89,88,88,89,87,87,88,88,88,88,88,88,88,87,90,] best R^2: 0.895\n",
      "\u001b[1m[Test #6]:\u001b[0m [90,90,91,90,90,88,89,91,90,91,90,90,90,90,90,90,90,89,90,90,] best R^2: 0.909\n",
      "\u001b[1m[Test #7]:\u001b[0m [88,90,90,89,89,90,87,88,88,90,89,89,89,89,89,89,88,89,89,89,] best R^2: 0.902\n",
      "\u001b[1m[Test #8]:\u001b[0m [85,85,85,87,85,84,85,86,84,84,87,86,84,86,86,87,86,85,85,86,] best R^2: 0.872\n",
      "\u001b[1m[Test #9]:\u001b[0m [83,84,82,83,83,82,81,82,82,83,82,83,83,81,82,82,83,83,82,82,] best R^2: 0.84\n",
      "done\n",
      "\n",
      "Average of Bests (+/- St.Dev.):\n",
      "R^2:\t0.864375846011072   +/-   0.027696546170242496\n",
      "MAE:\t0.9205203361390157   +/-   0.08191813435070307\n",
      "RMSE:\t1.3906414606615223   +/-   0.17304742080641394\n",
      "\n",
      "Global Average (+/- St.Dev.):\n",
      "R^2:\t0.8503128174505735   +/-   0.028877258673108457\n",
      "MAE:\t0.9766129818699875   +/-   0.08637477141162843\n",
      "RMSE:\t1.4614274530164557   +/-   0.17325338471916107\n"
     ]
    }
   ],
   "source": [
    "model_name = 'my_MLP'\n",
    "X_name = 'fpCounts'\n",
    "y_name = 'DGhy_exp'\n",
    "\n",
    "_ = multi_test(eval(model_name), X=INPUTS[X_name], y=LABELS[y_name],\n",
    "               test_indices=TEN_FREESOLV_TEST_INDICES, nTrials=20,\n",
    "               saveFile=f'results_821/{model_name}--freesolv--{X_name}--{y_name}.txt')"
   ]
  },
  {
   "cell_type": "code",
   "execution_count": null,
   "id": "5b9c81f8",
   "metadata": {},
   "outputs": [],
   "source": []
  }
 ],
 "metadata": {
  "kernelspec": {
   "display_name": "Python 3 (ipykernel)",
   "language": "python",
   "name": "python3"
  },
  "language_info": {
   "codemirror_mode": {
    "name": "ipython",
    "version": 3
   },
   "file_extension": ".py",
   "mimetype": "text/x-python",
   "name": "python",
   "nbconvert_exporter": "python",
   "pygments_lexer": "ipython3",
   "version": "3.7.3"
  }
 },
 "nbformat": 4,
 "nbformat_minor": 5
}
